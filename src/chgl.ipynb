{
 "cells": [
  {
   "cell_type": "code",
   "execution_count": 16,
   "metadata": {},
   "outputs": [
    {
     "name": "stdout",
     "output_type": "stream",
     "text": [
      "4.2.5\n",
      "Connecting to tcp://127.0.0.1:5555\n"
     ]
    }
   ],
   "source": [
    "from CHGLClient import *\n",
    "\n",
    "connStr = \"127.0.0.1:5555\"\n",
    "numVertices=1024\n",
    "numEdges=1024\n",
    "graph = CHGL(connStr, numVertices, numEdges)"
   ]
  },
  {
   "cell_type": "code",
   "execution_count": 17,
   "metadata": {},
   "outputs": [],
   "source": [
    "for i in range(int(numVertices)):\n",
    "    for j in range(int(numEdges)):\n",
    "        if random.random() <= 0.1: # Erdos Renyi\n",
    "            graph.addInclusion(i,j)"
   ]
  },
  {
   "cell_type": "code",
   "execution_count": 18,
   "metadata": {},
   "outputs": [
    {
     "name": "stdout",
     "output_type": "stream",
     "text": [
      "104752\n"
     ]
    }
   ],
   "source": [
    "print(graph.size().result())"
   ]
  },
  {
   "cell_type": "code",
   "execution_count": null,
   "metadata": {},
   "outputs": [],
   "source": []
  }
 ],
 "metadata": {
  "kernelspec": {
   "display_name": "Python 3",
   "language": "python",
   "name": "python3"
  },
  "language_info": {
   "codemirror_mode": {
    "name": "ipython",
    "version": 3
   },
   "file_extension": ".py",
   "mimetype": "text/x-python",
   "name": "python",
   "nbconvert_exporter": "python",
   "pygments_lexer": "ipython3",
   "version": "3.7.0"
  }
 },
 "nbformat": 4,
 "nbformat_minor": 2
}
